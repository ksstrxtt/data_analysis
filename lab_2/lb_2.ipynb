{
 "cells": [
  {
   "metadata": {},
   "cell_type": "markdown",
   "source": "### Імпорт необхідних бібліотек",
   "id": "8c5e99a4fc965b3d"
  },
  {
   "metadata": {
    "ExecuteTime": {
     "end_time": "2024-06-06T13:38:23.175598Z",
     "start_time": "2024-06-06T13:38:22.827806Z"
    }
   },
   "cell_type": "code",
   "source": [
    "import os\n",
    "import urllib.request\n",
    "import datetime\n",
    "import pandas as pd\n",
    "import glob\n"
   ],
   "id": "2aba2a6158e334e4",
   "outputs": [],
   "execution_count": 1
  },
  {
   "metadata": {},
   "cell_type": "markdown",
   "source": "### Створення папки для завантаження даних",
   "id": "4039f14328dd291c"
  },
  {
   "metadata": {
    "ExecuteTime": {
     "end_time": "2024-06-06T13:38:25.737750Z",
     "start_time": "2024-06-06T13:38:25.732763Z"
    }
   },
   "cell_type": "code",
   "source": [
    "def create_folder(folder_name):\n",
    "    if not os.path.exists(folder_name):\n",
    "        os.makedirs(folder_name, exist_ok=True)\n",
    "    print(f\"Folder '{folder_name}' was successfully created or already exists.\")\n",
    "\n",
    "create_folder('data')\n"
   ],
   "id": "a075e18532da259b",
   "outputs": [
    {
     "name": "stdout",
     "output_type": "stream",
     "text": [
      "Folder 'data' was successfully created or already exists.\n"
     ]
    }
   ],
   "execution_count": 2
  },
  {
   "metadata": {},
   "cell_type": "markdown",
   "source": "### Завантаження даних",
   "id": "560e23ba00c242b2"
  },
  {
   "metadata": {
    "ExecuteTime": {
     "end_time": "2024-06-06T13:39:58.271482Z",
     "start_time": "2024-06-06T13:39:28.932334Z"
    }
   },
   "cell_type": "code",
   "source": [
    "def download_vhi_data(region_id, start_year=1981, end_year=2024):\n",
    "    url = f\"https://www.star.nesdis.noaa.gov/smcd/emb/vci/VH/get_TS_admin.php?country=UKR&provinceID={region_id}&year1={start_year}&year2={end_year}&type=Mean\"\n",
    "    response = urllib.request.urlopen(url)\n",
    "    if response.status == 200:\n",
    "        timestamp = datetime.datetime.now().strftime('%Y-%m-%d_%H-%M')\n",
    "        filename = f'data/vhi_{region_id}_{timestamp}.csv'\n",
    "        with open(filename, 'wb') as file:\n",
    "            file.write(response.read())\n",
    "        print(f\"Data for region {region_id} saved to {filename}.\")\n",
    "    else:\n",
    "        print(f\"Failed to download data for region {region_id}.\")\n",
    "\n",
    "for region in range(1, 28):\n",
    "    download_vhi_data(region)"
   ],
   "id": "70bbe363379b6f8c",
   "outputs": [
    {
     "name": "stdout",
     "output_type": "stream",
     "text": [
      "Data for region 1 saved to data/vhi_1_2024-06-06_16-39.csv.\n",
      "Data for region 2 saved to data/vhi_2_2024-06-06_16-39.csv.\n",
      "Data for region 3 saved to data/vhi_3_2024-06-06_16-39.csv.\n",
      "Data for region 4 saved to data/vhi_4_2024-06-06_16-39.csv.\n",
      "Data for region 5 saved to data/vhi_5_2024-06-06_16-39.csv.\n",
      "Data for region 6 saved to data/vhi_6_2024-06-06_16-39.csv.\n",
      "Data for region 7 saved to data/vhi_7_2024-06-06_16-39.csv.\n",
      "Data for region 8 saved to data/vhi_8_2024-06-06_16-39.csv.\n",
      "Data for region 9 saved to data/vhi_9_2024-06-06_16-39.csv.\n",
      "Data for region 10 saved to data/vhi_10_2024-06-06_16-39.csv.\n",
      "Data for region 11 saved to data/vhi_11_2024-06-06_16-39.csv.\n",
      "Data for region 12 saved to data/vhi_12_2024-06-06_16-39.csv.\n",
      "Data for region 13 saved to data/vhi_13_2024-06-06_16-39.csv.\n",
      "Data for region 14 saved to data/vhi_14_2024-06-06_16-39.csv.\n",
      "Data for region 15 saved to data/vhi_15_2024-06-06_16-39.csv.\n",
      "Data for region 16 saved to data/vhi_16_2024-06-06_16-39.csv.\n",
      "Data for region 17 saved to data/vhi_17_2024-06-06_16-39.csv.\n",
      "Data for region 18 saved to data/vhi_18_2024-06-06_16-39.csv.\n",
      "Data for region 19 saved to data/vhi_19_2024-06-06_16-39.csv.\n",
      "Data for region 20 saved to data/vhi_20_2024-06-06_16-39.csv.\n",
      "Data for region 21 saved to data/vhi_21_2024-06-06_16-39.csv.\n",
      "Data for region 22 saved to data/vhi_22_2024-06-06_16-39.csv.\n",
      "Data for region 23 saved to data/vhi_23_2024-06-06_16-39.csv.\n",
      "Data for region 24 saved to data/vhi_24_2024-06-06_16-39.csv.\n",
      "Data for region 25 saved to data/vhi_25_2024-06-06_16-39.csv.\n",
      "Data for region 26 saved to data/vhi_26_2024-06-06_16-39.csv.\n",
      "Data for region 27 saved to data/vhi_27_2024-06-06_16-39.csv.\n"
     ]
    }
   ],
   "execution_count": 3
  },
  {
   "metadata": {},
   "cell_type": "markdown",
   "source": "### Заміна старих індексів на нові",
   "id": "f3fae3b665dca20c"
  },
  {
   "metadata": {
    "ExecuteTime": {
     "end_time": "2024-06-06T13:40:07.589086Z",
     "start_time": "2024-06-06T13:40:07.570137Z"
    }
   },
   "cell_type": "code",
   "source": [
    "region_id_map = {\n",
    "    1: 24, 2: 25, 3: 5, 4: 4, 5: 3, 6: 4, 7: 8, 8: 19, 9: 9, 10: 10, 11: 11, 12: 12, 13: 13, 14: 14, 15: 15, 16: 16, 17: 17, 18: 18, 19: 20, 20: 20, 21: 21, 22: 22, 23: 23, 24: 1, 25: 25, 26: 26, 27: 27\n",
    "}\n",
    "\n",
    "region_names_ukr = {\n",
    "    1: \"Вінницька\", 2: \"Волинська\", 3: \"Дніпропетровська\", 4: \"Донецька\", 5: \"Житомирська\", \n",
    "    6: \"Закарпатська\", 7: \"Запорізька\", 8: \"Івано-Франківська\", 9: \"Київська\", 10: \"Кіровоградська\", \n",
    "    11: \"Луганська\", 12: \"Львівська\", 13: \"Миколаївська\", 14: \"Одеська\", 15: \"Полтавська\", \n",
    "    16: \"Рівненська\", 17: \"Сумська\", 18: \"Тернопільська\", 19: \"Харківська\", 20: \"Херсонська\", \n",
    "    21: \"Хмельницька\", 22: \"Черкаська\", 23: \"Чернівецька\", 24: \"Чернігівська\", 25: \"Республіка Крим\"\n",
    "}\n",
    "\n",
    "reverse_region_id_map = {v: k for k, v in region_id_map.items()}\n",
    "\n",
    "def rename_regions(df):\n",
    "    df['region_id'] = df['region_id'].map(region_id_map)\n",
    "    return df"
   ],
   "id": "28121dd76d862bd7",
   "outputs": [],
   "execution_count": 4
  },
  {
   "metadata": {},
   "cell_type": "markdown",
   "source": "### Читання CSV файлів у DataFrame",
   "id": "51f837e8fc4cd647"
  },
  {
   "metadata": {
    "ExecuteTime": {
     "end_time": "2024-06-06T14:45:46.889656Z",
     "start_time": "2024-06-06T14:45:46.691187Z"
    }
   },
   "cell_type": "code",
   "source": [
    "# Читання CSV файлів у DataFrame\n",
    "def create_data_frame(folder_path1):\n",
    "    csv_files = glob.glob(folder_path1 + \"/*.csv\")\n",
    "\n",
    "    headers = ['Year', 'Week', 'SMN', 'SMT', 'VCI', 'TCI', 'VHI', 'empty']\n",
    "    frames = []\n",
    "\n",
    "    for file in csv_files:\n",
    "        print(f\"Reading file: {file}\")  # Діагностичний вивід\n",
    "        region_id1 = int(file.split('_')[1]) \n",
    "        df = pd.read_csv(file, header=1, names=headers)\n",
    "        df.at[0, 'Year'] = df.at[0, 'Year'][9:]\n",
    "        # df = df.drop(df.index[-1])  # Коментар для видалення останнього рядка\n",
    "        df = df.drop(df.loc[df['VHI'] == -1].index)\n",
    "        df = df.drop('empty', axis=1)\n",
    "        df.insert(0, 'region_id', region_id1, True)\n",
    "        \n",
    "        # Видалення нечислових символів з колонки 'Year'\n",
    "        df['Year'] = df['Year'].str.extract(r'(\\d+)', expand=False)\n",
    "        df = df.dropna(subset=['Year'])\n",
    "        df['Year'] = df['Year'].astype(int)\n",
    "        \n",
    "        frames.append(df)\n",
    "\n",
    "    result = pd.concat(frames).drop_duplicates().reset_index(drop=True)\n",
    "    return rename_regions(result)\n",
    "\n",
    "data = create_data_frame('data')\n",
    "\n",
    "print(len(data))\n",
    "# Перевірка зчитаних даних\n",
    "print(data.head())\n",
    "print(data['region_id'].unique())\n",
    "print(data['Year'].unique())\n",
    "\n",
    "# Перевірка наявності даних за роки 1999, 2000, 2001\n",
    "selected_years_data = data[data['Year'].isin([1999, 2000, 2001])]\n",
    "print(\"Дані за 1999, 2000, 2001 роки:\")\n",
    "print(selected_years_data)\n",
    "\n",
    "# Перевірка наявності даних для конкретних регіонів за ці роки\n",
    "selected_regions = [3, 5, 12]  # Наприклад, регіони з ID 3, 5, 12\n",
    "selected_years_regions_data = selected_years_data[selected_years_data['region_id'].isin(selected_regions)]\n",
    "print(\"Дані для регіонів 3, 5, 12 за 1999, 2000, 2001 роки:\")\n",
    "print(selected_years_regions_data)\n"
   ],
   "id": "40f0f7ae24f7babd",
   "outputs": [
    {
     "name": "stdout",
     "output_type": "stream",
     "text": [
      "Reading file: data\\vhi_10_2024-06-06_16-39.csv\n",
      "Reading file: data\\vhi_11_2024-06-06_16-39.csv\n",
      "Reading file: data\\vhi_12_2024-06-06_16-39.csv\n",
      "Reading file: data\\vhi_13_2024-06-06_16-39.csv\n",
      "Reading file: data\\vhi_14_2024-06-06_16-39.csv\n",
      "Reading file: data\\vhi_15_2024-06-06_16-39.csv\n",
      "Reading file: data\\vhi_16_2024-06-06_16-39.csv\n",
      "Reading file: data\\vhi_17_2024-06-06_16-39.csv\n",
      "Reading file: data\\vhi_18_2024-06-06_16-39.csv\n",
      "Reading file: data\\vhi_19_2024-06-06_16-39.csv\n",
      "Reading file: data\\vhi_1_2024-06-06_16-39.csv\n",
      "Reading file: data\\vhi_20_2024-06-06_16-39.csv\n",
      "Reading file: data\\vhi_21_2024-06-06_16-39.csv\n",
      "Reading file: data\\vhi_22_2024-06-06_16-39.csv\n",
      "Reading file: data\\vhi_23_2024-06-06_16-39.csv\n",
      "Reading file: data\\vhi_24_2024-06-06_16-39.csv\n",
      "Reading file: data\\vhi_25_2024-06-06_16-39.csv\n",
      "Reading file: data\\vhi_26_2024-06-06_16-39.csv\n",
      "Reading file: data\\vhi_27_2024-06-06_16-39.csv\n",
      "Reading file: data\\vhi_2_2024-06-06_16-39.csv\n",
      "Reading file: data\\vhi_3_2024-06-06_16-39.csv\n",
      "Reading file: data\\vhi_4_2024-06-06_16-39.csv\n",
      "Reading file: data\\vhi_5_2024-06-06_16-39.csv\n",
      "Reading file: data\\vhi_6_2024-06-06_16-39.csv\n",
      "Reading file: data\\vhi_7_2024-06-06_16-39.csv\n",
      "Reading file: data\\vhi_8_2024-06-06_16-39.csv\n",
      "Reading file: data\\vhi_9_2024-06-06_16-39.csv\n",
      "58212\n",
      "   region_id  Year  Week    SMN     SMT    VCI    TCI    VHI\n",
      "0         10  1982   1.0  0.059  258.24  51.11  48.78  49.95\n",
      "1         10  1982   2.0  0.063  261.53  55.89  38.20  47.04\n",
      "2         10  1982   3.0  0.063  263.45  57.30  32.69  44.99\n",
      "3         10  1982   4.0  0.061  265.10  53.96  28.62  41.29\n",
      "4         10  1982   5.0  0.058  266.42  46.87  28.57  37.72\n",
      "[10 11 12 13 14 15 16 17 18 20 24 21 22 23  1 25 26 27  5  4  3  8 19  9]\n",
      "[1982 1983 1984 1985 1986 1987 1988 1989 1990 1991 1992 1993 1994 1995\n",
      " 1996 1997 1998 1999 2000 2001 2002 2003 2004 2005 2006 2007 2008 2009\n",
      " 2010 2011 2012 2013 2014 2015 2016 2017 2018 2019 2020 2021 2022 2023\n",
      " 2024]\n",
      "Дані за 1999, 2000, 2001 роки:\n",
      "       region_id  Year  Week    SMN     SMT    VCI    TCI    VHI\n",
      "854           10  1999   1.0  0.043  252.53  31.72  69.51  50.62\n",
      "855           10  1999   2.0  0.044  250.61  34.54  77.36  55.95\n",
      "856           10  1999   3.0  0.048  248.38  40.14  85.05  62.60\n",
      "857           10  1999   4.0  0.051  247.09  43.51  87.49  65.50\n",
      "858           10  1999   5.0  0.052  246.80  41.59  88.58  65.08\n",
      "...          ...   ...   ...    ...     ...    ...    ...    ...\n",
      "57061          9  2001  48.0  0.103  268.83  40.40  54.75  47.57\n",
      "57062          9  2001  49.0  0.092  266.22  38.85  56.13  47.49\n",
      "57063          9  2001  50.0  0.086  264.63  39.62  54.39  47.01\n",
      "57064          9  2001  51.0  0.082  264.00  40.77  50.15  45.46\n",
      "57065          9  2001  52.0  0.077  263.00  39.33  49.96  44.64\n",
      "\n",
      "[4212 rows x 8 columns]\n",
      "Дані для регіонів 3, 5, 12 за 1999, 2000, 2001 роки:\n",
      "       region_id  Year  Week    SMN     SMT    VCI    TCI    VHI\n",
      "5166          12  1999   1.0  0.055  259.34  36.10  45.39  40.74\n",
      "5167          12  1999   2.0  0.057  259.54  36.11  45.68  40.90\n",
      "5168          12  1999   3.0  0.060  259.71  36.92  47.60  42.26\n",
      "5169          12  1999   4.0  0.063  260.20  41.51  48.30  44.91\n",
      "5170          12  1999   5.0  0.069  260.49  46.57  53.64  50.10\n",
      "...          ...   ...   ...    ...     ...    ...    ...    ...\n",
      "48437          3  2001  48.0  0.069  260.41  40.22  72.47  56.35\n",
      "48438          3  2001  49.0  0.060  257.03  39.54  75.34  57.44\n",
      "48439          3  2001  50.0  0.056  255.10  40.16  74.19  57.18\n",
      "48440          3  2001  51.0  0.053  253.93  44.27  71.85  58.06\n",
      "48441          3  2001  52.0  0.051  253.74  48.71  68.05  58.38\n",
      "\n",
      "[468 rows x 8 columns]\n"
     ]
    }
   ],
   "execution_count": 8
  },
  {
   "metadata": {},
   "cell_type": "markdown",
   "source": "### Функція аналізу за роками та регіонами",
   "id": "8eb960addb82891"
  },
  {
   "metadata": {
    "ExecuteTime": {
     "end_time": "2024-06-06T13:40:25.471881Z",
     "start_time": "2024-06-06T13:40:25.386104Z"
    }
   },
   "cell_type": "code",
   "source": [
    "def analyze_region_years(df, region_id, year_range):\n",
    "    df = df.dropna(subset=['Year'])  # Видалити рядки зі значеннями NaN у стовпці Year\n",
    "    df.loc[:, 'Year'] = df['Year'].astype(int)\n",
    "    region_data = df[(df['region_id'] == region_id) & df['Year'].between(year_range[0], year_range[1])]\n",
    "    if not region_data.empty:\n",
    "        min_vhi = region_data['VHI'].min()\n",
    "        max_vhi = region_data['VHI'].max()\n",
    "        original_region_id = reverse_region_id_map.get(region_id, None)\n",
    "        region_name = region_names_ukr.get(original_region_id, \"Невідомий регіон\")\n",
    "        print(f\"Регіон: {region_name}, Min VHI: {min_vhi}, Max VHI: {max_vhi}\")\n",
    "\n",
    "for region in range(1, 26):\n",
    "    analyze_region_years(data, region, (1985, 2010))\n"
   ],
   "id": "1d8ab8a091ba0467",
   "outputs": [
    {
     "name": "stdout",
     "output_type": "stream",
     "text": [
      "Регіон: Чернігівська, Min VHI: 11.25, Max VHI: 82.64\n",
      "Регіон: Житомирська, Min VHI: 17.58, Max VHI: 93.17\n",
      "Регіон: Закарпатська, Min VHI: 6.26, Max VHI: 96.18\n",
      "Регіон: Дніпропетровська, Min VHI: 15.16, Max VHI: 72.19\n",
      "Регіон: Запорізька, Min VHI: 18.98, Max VHI: 73.35\n",
      "Регіон: Київська, Min VHI: 12.23, Max VHI: 90.61\n",
      "Регіон: Кіровоградська, Min VHI: 18.41, Max VHI: 79.4\n",
      "Регіон: Луганська, Min VHI: 10.6, Max VHI: 80.88\n",
      "Регіон: Львівська, Min VHI: 6.49, Max VHI: 76.84\n",
      "Регіон: Миколаївська, Min VHI: 16.36, Max VHI: 84.52\n",
      "Регіон: Одеська, Min VHI: 12.45, Max VHI: 90.32\n",
      "Регіон: Полтавська, Min VHI: 18.31, Max VHI: 69.96\n",
      "Регіон: Рівненська, Min VHI: 5.94, Max VHI: 92.31\n",
      "Регіон: Сумська, Min VHI: 5.52, Max VHI: 89.14\n",
      "Регіон: Тернопільська, Min VHI: 15.68, Max VHI: 85.14\n",
      "Регіон: Івано-Франківська, Min VHI: 9.36, Max VHI: 91.42\n",
      "Регіон: Херсонська, Min VHI: 8.14, Max VHI: 77.45\n",
      "Регіон: Хмельницька, Min VHI: 16.37, Max VHI: 79.84\n",
      "Регіон: Черкаська, Min VHI: 20.63, Max VHI: 77.71\n",
      "Регіон: Чернівецька, Min VHI: 18.0, Max VHI: 72.59\n",
      "Регіон: Вінницька, Min VHI: 10.68, Max VHI: 83.7\n",
      "Регіон: Республіка Крим, Min VHI: 11.91, Max VHI: 80.65\n"
     ]
    }
   ],
   "execution_count": 6
  },
  {
   "metadata": {},
   "cell_type": "markdown",
   "source": "### Функція аналізу посух",
   "id": "eec5594c2fed43e1"
  },
  {
   "metadata": {
    "ExecuteTime": {
     "end_time": "2024-06-06T13:40:36.179223Z",
     "start_time": "2024-06-06T13:40:36.161271Z"
    }
   },
   "cell_type": "code",
   "source": [
    "def drought_years_analysis(df, years_range=(\"1981\", \"2024\"), selected_regions=None, threshold_extreme=15, threshold_moderate=(15, 35), percent_threshold=20):\n",
    "    extreme_drought_years = []\n",
    "    moderate_drought_years = []\n",
    "\n",
    "    if selected_regions:\n",
    "        df = df[df['region_id'].isin(selected_regions)]\n",
    "\n",
    "    total_regions = len(set(df['region_id']))\n",
    "    min_regions_affected = (percent_threshold / 100) * total_regions\n",
    "\n",
    "    for year in range(int(years_range[0]), int(years_range[1]) + 1):\n",
    "        yearly_data = df[df['Year'] == year]\n",
    "\n",
    "        if yearly_data.empty:\n",
    "            continue\n",
    "\n",
    "        extreme_drought_count = len(yearly_data[yearly_data['VHI'] < threshold_extreme])\n",
    "        moderate_drought_count = len(yearly_data[(yearly_data['VHI'] >= threshold_moderate[0]) & (yearly_data['VHI'] <= threshold_moderate[1])])\n",
    "\n",
    "        if extreme_drought_count >= min_regions_affected:\n",
    "            extreme_drought_years.append(year)\n",
    "        if moderate_drought_count >= min_regions_affected:\n",
    "            moderate_drought_years.append(year)\n",
    "\n",
    "    return extreme_drought_years, moderate_drought_years\n",
    "\n",
    "# Виклик функції для аналізу посух для конкретних регіонів\n",
    "extreme_drought_years, moderate_drought_years = drought_years_analysis(data, years_range=(\"1999\", \"2001\"), selected_regions=selected_regions)\n",
    "print(\"Роки з екстремальними посухами для обраних регіонів:\", extreme_drought_years)\n",
    "print(\"Роки з помірними посухами для обраних регіонів:\", moderate_drought_years)\n"
   ],
   "id": "f9fb6865cb2c6c03",
   "outputs": [
    {
     "name": "stdout",
     "output_type": "stream",
     "text": [
      "Роки з екстремальними посухами для обраних регіонів: [1999, 2000]\n",
      "Роки з помірними посухами для обраних регіонів: [1999, 2000, 2001]\n"
     ]
    }
   ],
   "execution_count": 7
  },
  {
   "metadata": {},
   "cell_type": "code",
   "outputs": [],
   "execution_count": null,
   "source": "",
   "id": "669ec672cc1dd3d2"
  }
 ],
 "metadata": {
  "kernelspec": {
   "display_name": "Python 3",
   "language": "python",
   "name": "python3"
  },
  "language_info": {
   "codemirror_mode": {
    "name": "ipython",
    "version": 2
   },
   "file_extension": ".py",
   "mimetype": "text/x-python",
   "name": "python",
   "nbconvert_exporter": "python",
   "pygments_lexer": "ipython2",
   "version": "2.7.6"
  }
 },
 "nbformat": 4,
 "nbformat_minor": 5
}
