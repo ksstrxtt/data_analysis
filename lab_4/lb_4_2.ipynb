{
 "cells": [
  {
   "metadata": {},
   "cell_type": "markdown",
   "source": "### Імпорти та початкова установка",
   "id": "6829822de8089163"
  },
  {
   "cell_type": "code",
   "execution_count": null,
   "id": "initial_id",
   "metadata": {
    "collapsed": true
   },
   "outputs": [],
   "source": [
    "import pandas as pd\n",
    "import numpy as np\n",
    "import missingno as msno\n",
    "import matplotlib.pyplot as plt\n",
    "from scipy.stats import pearsonr, spearmanr\n",
    "from sklearn.preprocessing import OneHotEncoder\n",
    "import seaborn as sns\n",
    "from sklearn.model_selection import train_test_split\n",
    "from sklearn.linear_model import LinearRegression\n",
    "from sklearn.metrics import mean_squared_error, r2_score\n",
    "\n",
    "print(\"Setup complete\")\n",
    "\n",
    "file = \"cars.data\""
   ]
  },
  {
   "metadata": {},
   "cell_type": "markdown",
   "source": "### Створення NumPy масиву та DataFrame з файлу",
   "id": "754d6ab1416d5979"
  },
  {
   "metadata": {},
   "cell_type": "code",
   "outputs": [],
   "execution_count": null,
   "source": [
    "def create_numpy_arr(file1):\n",
    "    data = np.genfromtxt(file1, delimiter=',')\n",
    "    return data\n",
    "\n",
    "def create_data_frame(file1):\n",
    "    header = ['symboling', 'normalized-losses', 'make', 'fuel-type', 'aspiration', 'num-of-doors', 'body-style', 'drive-wheels', 'engine-location', 'wheel-base', 'length', 'width', 'height', 'curb-weight', 'engine-type', 'num-of-cylinders', 'engine-size', 'fuel-system', 'bore', 'stroke', 'compression-ratio', 'horsepower', 'peak-rpm', 'city-mpg', 'highway-mpg', 'price']\n",
    "    df1 = pd.read_csv(file1, names=header, low_memory=False, na_values=\"?\")\n",
    "    return df1"
   ],
   "id": "58ee6a24334d5b44"
  },
  {
   "metadata": {},
   "cell_type": "markdown",
   "source": "### Виклик функцій для створення DataFrame та NumPy масиву",
   "id": "9ca22b3156d4634d"
  },
  {
   "metadata": {},
   "cell_type": "code",
   "outputs": [],
   "execution_count": null,
   "source": [
    "df = create_data_frame(file)\n",
    "df_np = create_numpy_arr(file)"
   ],
   "id": "516d0de62f325adf"
  },
  {
   "metadata": {},
   "cell_type": "markdown",
   "source": "### Візуалізація пропущених значень",
   "id": "665f530ccf3584a8"
  },
  {
   "metadata": {},
   "cell_type": "code",
   "outputs": [],
   "execution_count": null,
   "source": [
    "msno.matrix(df)\n",
    "\n",
    "df = df.dropna(subset=['num-of-doors', 'stroke', 'bore', 'normalized-losses'] )\n",
    "msno.matrix(df)"
   ],
   "id": "1a494d25980dcdad"
  },
  {
   "metadata": {},
   "cell_type": "markdown",
   "source": "### Нормалізація даних",
   "id": "7c5c16e44b708d11"
  },
  {
   "metadata": {},
   "cell_type": "code",
   "outputs": [],
   "execution_count": null,
   "source": [
    "def normalize_dataset(dataset):\n",
    "    normalized_dataset = dataset.copy()\n",
    "    for column in normalized_dataset.columns:\n",
    "        if normalized_dataset[column].dtype in ['int64', 'float64']:\n",
    "            # Мін-Макс нормалізація\n",
    "            min_value = normalized_dataset[column].min()\n",
    "            max_value = normalized_dataset[column].max()\n",
    "            normalized_dataset[column] = (normalized_dataset[column] - min_value) / (max_value - min_value)\n",
    "    return normalized_dataset\n",
    "\n",
    "df_normalized = normalize_dataset(df)\n",
    "# df = normalize_dataset(df)"
   ],
   "id": "3721e7ed5f5357fe"
  },
  {
   "metadata": {},
   "cell_type": "markdown",
   "source": "### Візуалізація гістограм та відношень атрибутів",
   "id": "4dccaea1bc0cb45f"
  },
  {
   "metadata": {},
   "cell_type": "code",
   "outputs": [],
   "execution_count": null,
   "source": [
    "def plot_histogram(dataset, attribute, num_bins=10):\n",
    "    min_value = dataset[attribute].min()\n",
    "    max_value = dataset[attribute].max()\n",
    "    bin_width = (max_value - min_value) / num_bins\n",
    "    bins = [min_value + i * bin_width for i in range(num_bins + 1)]\n",
    "    \n",
    "    plt.hist(dataset[attribute], bins=bins, edgecolor='black')\n",
    "    \n",
    "    plt.title(f'Histogram of {attribute}')\n",
    "    plt.xlabel(attribute)\n",
    "    plt.ylabel('Frequency')\n",
    "    plt.grid(True)\n",
    "    \n",
    "    plt.show()\n",
    "\n",
    "def plot_attribute_relation(dataset, x_attribute, y_attribute,):\n",
    "    sns.regplot(data=dataset ,x=x_attribute , y=y_attribute)\n",
    "    \n",
    "    plt.title(f'{y_attribute} vs {x_attribute}')\n",
    "    plt.xlabel(x_attribute)\n",
    "    plt.ylabel(y_attribute)\n",
    "    plt.grid(True)\n",
    "    \n",
    "    plt.show()"
   ],
   "id": "d09dc3bc1cce1e9"
  },
  {
   "metadata": {},
   "cell_type": "markdown",
   "source": "### Виклик функцій для побудови графіків",
   "id": "24a45d070ccb960b"
  },
  {
   "metadata": {},
   "cell_type": "code",
   "outputs": [],
   "execution_count": null,
   "source": [
    "plot_histogram(df_normalized, 'engine-size', num_bins=10)\n",
    "\n",
    "plot_histogram(df, 'engine-size', num_bins=10)\n",
    "plot_histogram(df, 'price', num_bins=10)\n",
    "plot_attribute_relation(df, 'price','engine-size',)\n",
    "\n",
    "plot_histogram(df, 'highway-mpg', num_bins=16)\n",
    "plot_histogram(df, 'horsepower', num_bins=16)\n",
    "plot_attribute_relation(df, 'highway-mpg','horsepower')"
   ],
   "id": "e16edeb72429fe50"
  },
  {
   "metadata": {},
   "cell_type": "markdown",
   "source": "### Розрахунок кореляції",
   "id": "9924bbab96a9c895"
  },
  {
   "metadata": {},
   "cell_type": "code",
   "outputs": [],
   "execution_count": null,
   "source": [
    "def calculate_correlation(dataset, x_attribute, y_attribute):\n",
    "    x_values = dataset[x_attribute]\n",
    "    y_values = dataset[y_attribute]\n",
    "    \n",
    "    pearson_corr, _ = pearsonr(x_values, y_values)\n",
    "    \n",
    "    spearman_corr, _ = spearmanr(x_values, y_values)\n",
    "\n",
    "    print(f\"Correlation coefficient: {x_attribute}, {y_attribute}\")\n",
    "    print(\"\\tPearson:\", pearson_corr)\n",
    "    print(\"\\tSpearman:\", spearman_corr,'\\n')\n",
    "\n",
    "    return pearson_corr, spearman_corr\n"
   ],
   "id": "6ee6bf91b9819aea"
  },
  {
   "metadata": {},
   "cell_type": "markdown",
   "source": "### Виклик функцій для розрахунку кореляції",
   "id": "d532fd5d959be58b"
  },
  {
   "metadata": {},
   "cell_type": "code",
   "outputs": [],
   "execution_count": null,
   "source": [
    "calculate_correlation(df, 'engine-size', 'price')\n",
    "calculate_correlation(df, 'horsepower', 'highway-mpg')\n",
    "\n",
    "calculate_correlation(df, 'peak-rpm', 'horsepower')\n",
    "calculate_correlation(df, 'horsepower', 'curb-weight')"
   ],
   "id": "4168deb4d614a3b3"
  },
  {
   "metadata": {},
   "cell_type": "markdown",
   "source": "### One-Hot кодування категоріальних даних",
   "id": "25156085958eb8d0"
  },
  {
   "metadata": {},
   "cell_type": "code",
   "outputs": [],
   "execution_count": null,
   "source": [
    "def one_hot_encode_categorical(dataset, categorical_columns1):\n",
    "    categorical_data = dataset[categorical_columns1]\n",
    "    encoder = OneHotEncoder(sparse_output=False, handle_unknown='ignore')\n",
    "    onehot_encoded = encoder.fit_transform(categorical_data)\n",
    "\n",
    "    encoder.fit(categorical_data)\n",
    "    encoded_data = encoder.transform(categorical_data)\n",
    "    encoded_columns = encoder.get_feature_names_out(categorical_columns1)\n",
    "    print(encoded_columns)\n",
    "    \n",
    "    encoded_df1 = df.drop(columns=categorical_columns1, axis=1)\n",
    "    encoded_df1.loc[:, encoded_columns] = encoded_data\n",
    "    return encoded_df1\n"
   ],
   "id": "e73b27b851f29d3f"
  },
  {
   "metadata": {},
   "cell_type": "markdown",
   "source": "### Виклик функції для One-Hot кодування",
   "id": "1791243eb6ab9f42"
  },
  {
   "metadata": {},
   "cell_type": "code",
   "outputs": [],
   "execution_count": null,
   "source": [
    "categorical_columns = ['fuel-type', 'drive-wheels', 'body-style', 'make', 'aspiration',\n",
    "                       'num-of-doors', 'engine-location', 'engine-type', 'num-of-cylinders', 'fuel-system']\n",
    "encoded_df = one_hot_encode_categorical(df, categorical_columns)\n",
    "print(encoded_df.head())\n"
   ],
   "id": "62d527a1d0dd81c1"
  },
  {
   "metadata": {},
   "cell_type": "markdown",
   "source": "### Аналіз кореляцій та побудова парних графіків",
   "id": "348d384d94dd0b08"
  },
  {
   "metadata": {},
   "cell_type": "code",
   "outputs": [],
   "execution_count": null,
   "source": [
    "df_test = encoded_df[['curb-weight', 'engine-size', 'height', 'width', 'length', 'peak-rpm']]\n",
    "\n",
    "corr = encoded_df[['curb-weight', 'engine-size', 'height', 'width', 'length', 'peak-rpm']].corr()\n",
    "sns.heatmap(corr, annot=True, cmap='coolwarm', fmt=\".2f\")\n",
    "plt.title('Correlation Heatmap')\n",
    "plt.show()\n",
    "\n",
    "sns.pairplot(df_test, kind='hist')\n",
    "plt.title('Pairplot with Regression Lines')\n",
    "plt.show()\n",
    "\n",
    "sns.pairplot(df_test, diag_kind='kde')\n",
    "plt.title('Pairplot with Kernel Density Estimates')\n",
    "plt.show()\n"
   ],
   "id": "d8b0d0812fd22a8d"
  },
  {
   "metadata": {},
   "cell_type": "markdown",
   "source": "### Поділ на навчальну і тестову вибірки",
   "id": "a8f7c77c1d0b96e4"
  },
  {
   "metadata": {},
   "cell_type": "code",
   "outputs": [],
   "execution_count": null,
   "source": [
    "df_train, df_test = train_test_split(df, test_size=0.5, random_state=42)\n",
    "\n",
    "def train_and_evaluate_regression_model(feature, target, df_train1, df_test1):\n",
    "\n",
    "    X_train = df_train1[feature]\n",
    "    y_train = df_train1[target]\n",
    "\n",
    "    X_test = df_test1[feature]\n",
    "    y_test = df_test1[target]\n",
    "    \n",
    "    model = LinearRegression()\n",
    "\n",
    "    model.fit(X_train, y_train)\n",
    "    \n",
    "    y_pred = model.predict(X_test)\n",
    "    \n",
    "    mse = mean_squared_error(y_test, y_pred)\n",
    "    r2 = r2_score(y_test, y_pred)\n",
    "    \n",
    "    print(\"Mean Squared Error:\", mse)\n",
    "  \n",
    "    print(\"Coefficients: \\n\", model.coef_)\n",
    "    print(\"Coefficient of determination: %.2f\" % r2)\n",
    "\n",
    "    if len(feature) == 1:\n",
    "        plt.scatter(X_train, y_train, label='Data')\n",
    "        plt.plot(X_test, y_pred, color='red', linewidth=2, label='Regression Line')\n",
    "        plt.xlabel(feature)\n",
    "        plt.ylabel(target)\n",
    "        plt.title('Linear Regression Model')\n",
    "        plt.text(0.02, 0.8, f'MSE: {mse:.5f}', transform=plt.gca().transAxes, fontsize=12)\n",
    "        plt.text(0.02, 0.7, f'r2: {r2}', transform=plt.gca().transAxes, fontsize=12)\n",
    "        plt.text(0.02, 0.6, f'cof: {model.coef_[0]:.5f}', transform=plt.gca().transAxes, fontsize=12)\n",
    "        plt.legend()\n",
    "        plt.show()\n",
    "\n",
    "    return model"
   ],
   "id": "7a8a9b0cc751fa47"
  },
  {
   "metadata": {},
   "cell_type": "markdown",
   "source": "### Виклик функцій для навчання та оцінки регресійної моделі",
   "id": "609889c159ee6a1a"
  },
  {
   "metadata": {},
   "cell_type": "code",
   "outputs": [],
   "execution_count": null,
   "source": [
    "train_and_evaluate_regression_model(['horsepower'], 'price', df_train, df_test)\n",
    "train_and_evaluate_regression_model(['peak-rpm'], 'price', df_train, df_test)\n",
    "train_and_evaluate_regression_model(['engine-size','horsepower','highway-mpg', 'curb-weight', 'symboling'], 'price', df_train, df_test)"
   ],
   "id": "e66fe4332f3f8438"
  }
 ],
 "metadata": {
  "kernelspec": {
   "display_name": "Python 3",
   "language": "python",
   "name": "python3"
  },
  "language_info": {
   "codemirror_mode": {
    "name": "ipython",
    "version": 2
   },
   "file_extension": ".py",
   "mimetype": "text/x-python",
   "name": "python",
   "nbconvert_exporter": "python",
   "pygments_lexer": "ipython2",
   "version": "2.7.6"
  }
 },
 "nbformat": 4,
 "nbformat_minor": 5
}
