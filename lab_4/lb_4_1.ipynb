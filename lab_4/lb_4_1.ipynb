{
 "cells": [
  {
   "metadata": {},
   "cell_type": "markdown",
   "source": "### Імпорти та початкова установка",
   "id": "a6b678c8de40a17d"
  },
  {
   "metadata": {},
   "cell_type": "code",
   "outputs": [],
   "execution_count": null,
   "source": [
    "import pandas as pd\n",
    "import numpy as np\n",
    "import missingno as msno\n",
    "from tabulate import tabulate\n",
    "from datetime import time as dt_time\n",
    "import time as tm\n",
    "\n",
    "print(\"Setup complete\")\n",
    "\n",
    "file = \"household_power_consumption.csv\""
   ],
   "id": "d1f98140adfee72"
  },
  {
   "metadata": {},
   "cell_type": "markdown",
   "source": "### Визначаємо функцію для виведення перших рядків",
   "id": "d172cb1a5fdc71a7"
  },
  {
   "metadata": {},
   "cell_type": "code",
   "outputs": [],
   "execution_count": null,
   "source": [
    "def print_head(data, n=5):\n",
    "    if isinstance(data, pd.DataFrame):\n",
    "        table_data = data.head(n).values.tolist()\n",
    "        headers = data.columns.tolist()\n",
    "        print(f\"Перші кілька DataFrame:\")\n",
    "        print(tabulate(table_data, headers=headers, tablefmt='pretty'))\n",
    "    elif isinstance(data, np.ndarray):\n",
    "        table_data = data[:n].tolist()\n",
    "        print(f\"\\nПерші кілька рядків NumPy масиву:\")\n",
    "        print(tabulate(table_data, tablefmt='pretty'))\n",
    "    else:\n",
    "        print(\"Непідтримуваний тип даних. Підтримуються лише DataFrame або NumPy масив.\")"
   ],
   "id": "533936fa599e5163"
  },
  {
   "metadata": {},
   "cell_type": "markdown",
   "source": "### Створення NumPy масиву з файлу",
   "id": "c18dc96f1e6d35e5"
  },
  {
   "metadata": {},
   "cell_type": "code",
   "outputs": [],
   "execution_count": null,
   "source": [
    "def create_numpy_arr(file1):\n",
    "    data = np.genfromtxt(file1, delimiter=',')\n",
    "    data[:,2:8] = data[:,2:8].astype(np.float64)\n",
    "    return data"
   ],
   "id": "896f2f3db2ec2290"
  },
  {
   "metadata": {},
   "cell_type": "markdown",
   "source": "### Створення DataFrame з файлу",
   "id": "1e2bf47ddec4812e"
  },
  {
   "metadata": {},
   "cell_type": "code",
   "outputs": [],
   "execution_count": null,
   "source": [
    "def create_data_frame(file1):\n",
    "    header =[\"Date\", \"Time\", \"Global_active_power\", \"Global_reactive_power\", \"Voltage\", \"Global_intensity\", \"Sub_metering_1\", \"Sub_metering_2\", \"Sub_metering_3\"]\n",
    "\n",
    "    dtype = {\n",
    "        'Global_active_power': float,\n",
    "        'Global_reactive_power': float,\n",
    "        'Voltage': float,\n",
    "        'Global_intensity': float,\n",
    "        'Sub_metering_1': float,\n",
    "        'Sub_metering_2': float,\n",
    "        'Sub_metering_3': float\n",
    "    }\n",
    "\n",
    "    na_values = ['?']\n",
    "    df1 = pd.read_csv(file1, dtype=dtype, na_values=na_values)\n",
    "\n",
    "    df1['Date'] = pd.to_datetime(df1['Date'], dayfirst=True)\n",
    "    df1['Time'] = pd.to_datetime(df1['Time'], format='%H:%M:%S').dt.time\n",
    "    df1 = df1.dropna()\n",
    "    msno.matrix(df1)\n",
    "\n",
    "    return df1"
   ],
   "id": "580c16894ff2684b"
  },
  {
   "metadata": {},
   "cell_type": "markdown",
   "source": "### Виклик функцій для створення DataFrame та NumPy масиву",
   "id": "a3f3cc77f63f5dfb"
  },
  {
   "metadata": {},
   "cell_type": "code",
   "outputs": [],
   "execution_count": null,
   "source": [
    "df = create_data_frame(file)\n",
    "np_arr = df.to_numpy()\n",
    "print_head(create_numpy_arr(file),10)"
   ],
   "id": "a63222b9f1285fae"
  },
  {
   "metadata": {},
   "cell_type": "markdown",
   "source": "### Фільтрування даних за Global_active_power",
   "id": "ee9c46bc48fa16fa"
  },
  {
   "metadata": {},
   "cell_type": "code",
   "outputs": [],
   "execution_count": null,
   "source": [
    "def filter_by_power(df1):\n",
    "    filtered_df1 = df1[df1['Global_active_power'] > 5.0]\n",
    "    return filtered_df1\n",
    "\n",
    "def filter_by_power_np(np_arr1):\n",
    "    filtered_df1 = np_arr1[np_arr1[:, 2] > 5.0]\n",
    "    return filtered_df1"
   ],
   "id": "61c7148a94fd8e05"
  },
  {
   "metadata": {},
   "cell_type": "markdown",
   "source": "### Вимірювання часу фільтрування за Global_active_power",
   "id": "4163ebcae28657c9"
  },
  {
   "metadata": {},
   "cell_type": "code",
   "outputs": [],
   "execution_count": null,
   "source": [
    "print(\"\\nЗадача 1\")\n",
    "start_time = tm.time()\n",
    "filtered_df = filter_by_power(df)\n",
    "print_head(filtered_df)\n",
    "end_time = tm.time() - start_time\n",
    "\n",
    "start_time_np = tm.time()\n",
    "filtered_df_np = filter_by_power_np(np_arr)\n",
    "print_head(filtered_df_np)\n",
    "end_time_np = tm.time() - start_time_np\n",
    "print(f\"Час виконання:\\nPd: {end_time} Np:{end_time_np} сек\")"
   ],
   "id": "b0747af8f7610f09"
  },
  {
   "metadata": {},
   "cell_type": "markdown",
   "source": "### Фільтрування даних за Voltage",
   "id": "155701f271414889"
  },
  {
   "metadata": {},
   "cell_type": "code",
   "outputs": [],
   "execution_count": null,
   "source": [
    "def filter_by_voltage(df1):\n",
    "    filtered_df1 = df1[df1['Voltage'] > 235]\n",
    "    return filtered_df1\n",
    "\n",
    "def filter_by_voltage_np(np_arr1):\n",
    "    filtered_df1 = np_arr1[np_arr1[:, 4] > 235]\n",
    "    return filtered_df1"
   ],
   "id": "e6355d9fc7b94350"
  },
  {
   "metadata": {},
   "cell_type": "markdown",
   "source": "### Вимірювання часу фільтрування за Voltage",
   "id": "2771e7c21045aa64"
  },
  {
   "metadata": {},
   "cell_type": "code",
   "outputs": [],
   "execution_count": null,
   "source": [
    "print(\"\\nЗадача 2\")\n",
    "start_time = tm.time()\n",
    "filtered_df = filter_by_voltage(df)\n",
    "print_head(filtered_df)\n",
    "end_time = tm.time() - start_time\n",
    "\n",
    "start_time_np = tm.time()\n",
    "filtered_df_np = filter_by_voltage_np(np_arr)\n",
    "print_head(filtered_df_np)\n",
    "end_time_np = tm.time() - start_time_np\n",
    "print(f\"Час виконання:\\nPd: {end_time} Np:{end_time_np} сек\")"
   ],
   "id": "2d58e6dc6c53de05"
  },
  {
   "metadata": {},
   "cell_type": "markdown",
   "source": "### Фільтрування за Global_intensity та споживанням енергії",
   "id": "4e3674ca3ac9c12c"
  },
  {
   "metadata": {},
   "cell_type": "code",
   "outputs": [],
   "execution_count": null,
   "source": [
    "def filter_by_current_and_consumption(df1):\n",
    "    filtered_df1 = df1[(df1['Global_intensity'] >= 19) & (df1['Global_intensity'] <= 20)]\n",
    "    filtered_df1 = filtered_df1[(filtered_df1['Sub_metering_2'] > filtered_df1['Sub_metering_3']) &\n",
    "                                (filtered_df1['Sub_metering_2'] > filtered_df1['Sub_metering_1'])]\n",
    "    return filtered_df1\n",
    "\n",
    "def filter_by_current_and_consumption_np(np_arr1):\n",
    "    filtered_df1 = np_arr1[(np_arr1[:, 5] >= 19) & (np_arr1[:, 5] <= 20)]\n",
    "    filtered_df1 = filtered_df1[(filtered_df1[:, 7] > filtered_df1[:, 8]) &\n",
    "                                (filtered_df1[:, 7] > filtered_df1[:, 6])]\n",
    "    return filtered_df1"
   ],
   "id": "d48b1594062c6fcd"
  },
  {
   "metadata": {},
   "cell_type": "markdown",
   "source": "### Вимірювання часу фільтрування за Global_intensity та споживанням енергії",
   "id": "dd286c651090bbc9"
  },
  {
   "metadata": {},
   "cell_type": "code",
   "outputs": [],
   "execution_count": null,
   "source": [
    "print(\"\\nЗадача 3\")\n",
    "start_time = tm.time()\n",
    "filtered_df = filter_by_current_and_consumption(df)\n",
    "print_head(filtered_df)\n",
    "end_time = tm.time() - start_time\n",
    "\n",
    "print(\"\\nЗадача 3 (з використанням NumPy)\")\n",
    "start_time_np = tm.time()\n",
    "filtered_df_np = filter_by_current_and_consumption_np(np_arr)\n",
    "print_head(filtered_df_np)\n",
    "end_time_np = tm.time() - start_time_np\n",
    "print(f\"Час виконання:\\nPd: {end_time} Np:{end_time_np} сек\")"
   ],
   "id": "9f486895f3306592"
  },
  {
   "metadata": {},
   "cell_type": "markdown",
   "source": "### Вибірка випадкових значень та обчислення середнього",
   "id": "611a4b3630837be"
  },
  {
   "metadata": {},
   "cell_type": "code",
   "outputs": [],
   "execution_count": null,
   "source": [
    "def random_sample_average(df1, n=500000):\n",
    "    sampled_indices = np.random.choice(df1.index, n, replace=True)\n",
    "    sampled_df = df1.loc[sampled_indices]\n",
    "    averages1 = sampled_df[['Sub_metering_1', 'Sub_metering_2', 'Sub_metering_3']].mean()\n",
    "    return averages1\n",
    "\n",
    "def random_sample_average_np(np_arr1, n=500000):\n",
    "    sampled_np = np_arr1[np.random.choice(np_arr1.shape[0], n, replace=True), 6:9]\n",
    "    averages1 = np.mean(sampled_np, axis=0)\n",
    "    return averages1"
   ],
   "id": "d9b94730e72ab10d"
  },
  {
   "metadata": {},
   "cell_type": "markdown",
   "source": "### Вимірювання часу обчислення середнього для випадкової вибірки",
   "id": "a4285fb9044a9b6a"
  },
  {
   "metadata": {},
   "cell_type": "code",
   "outputs": [],
   "execution_count": null,
   "source": [
    "print(\"\\nЗадача 4\")\n",
    "start_time = tm.time()\n",
    "averages = random_sample_average(df, n=500000)\n",
    "print(averages)\n",
    "end_time = tm.time() - start_time\n",
    "\n",
    "print(\"\\nЗадача 4 (з використанням NumPy)\")\n",
    "start_time_np = tm.time()\n",
    "averages = random_sample_average_np(np_arr, n=500000)\n",
    "print(averages)\n",
    "end_time_np = tm.time() - start_time_np\n",
    "print(f\"Час виконання:\\nPd: {end_time} Np:{end_time_np} сек\")"
   ],
   "id": "9fb5a953164fd442"
  },
  {
   "metadata": {},
   "cell_type": "markdown",
   "source": "### Складне фільтрування даних",
   "id": "6bec2df55ec4b835"
  },
  {
   "metadata": {},
   "cell_type": "code",
   "outputs": [],
   "execution_count": null,
   "source": [
    "# Задача 5\n",
    "def complex_filter(df1):\n",
    "    filtered_df1 = df1[(df1['Time'] > pd.to_datetime('18:00:00').time()) & (df1['Global_active_power'] > 6)\n",
    "                       & (df1['Sub_metering_2'].gt(df1['Sub_metering_1'], df1['Sub_metering_3']))]\n",
    "\n",
    "    fh = filtered_df1.iloc[:len(filtered_df1) // 2]\n",
    "    sh = filtered_df1.iloc[len(filtered_df1) // 2:]\n",
    "    result = pd.concat([fh.iloc[2::3], sh.iloc[3::4]])\n",
    "\n",
    "    return result\n",
    "\n",
    "def complex_filter_np(np_arr1):\n",
    "    condition = (np_arr1[:, 1].astype('O').astype(dt_time) >= dt_time(18, 0, 0)) & \\\n",
    "                (np_arr1[:, 2] > 6) & \\\n",
    "                (np_arr1[:, 7] > np_arr1[:, 6]) & \\\n",
    "                (np_arr1[:, 7] > np_arr1[:, 8])\n",
    "    \n",
    "    filtered_array = np_arr1[condition]\n",
    "\n",
    "    fh = filtered_array[:len(filtered_array) // 2]\n",
    "    sh = filtered_array[len(filtered_array) // 2:]\n",
    "    result = np.concatenate([fh[2::3], sh[3::4]])\n",
    "    return result"
   ],
   "id": "34dd107d63b18399"
  },
  {
   "metadata": {},
   "cell_type": "markdown",
   "source": "### Вимірювання часу виконання складного фільтрування",
   "id": "493408529a9d4651"
  },
  {
   "metadata": {},
   "cell_type": "code",
   "outputs": [],
   "execution_count": null,
   "source": [
    "print(\"\\nЗадача 5:\")\n",
    "start_time = tm.time()\n",
    "filtered_df = complex_filter(df)\n",
    "print_head(filtered_df)\n",
    "end_time = tm.time() - start_time\n",
    "\n",
    "start_time_np = tm.time()\n",
    "filtered_np = complex_filter_np(np_arr)\n",
    "\n",
    "print_head(filtered_np)\n",
    "end_time_np = tm.time() - start_time_np\n",
    "print(f\"Час виконання:\\nPd: {end_time} Np:{end_time_np} сек\")"
   ],
   "id": "947fee8a44223dc5"
  }
 ],
 "metadata": {
  "kernelspec": {
   "display_name": "Python 3",
   "language": "python",
   "name": "python3"
  },
  "language_info": {
   "codemirror_mode": {
    "name": "ipython",
    "version": 2
   },
   "file_extension": ".py",
   "mimetype": "text/x-python",
   "name": "python",
   "nbconvert_exporter": "python",
   "pygments_lexer": "ipython2",
   "version": "2.7.6"
  }
 },
 "nbformat": 4,
 "nbformat_minor": 5
}
